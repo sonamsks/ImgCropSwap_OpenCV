{
 "cells": [
  {
   "cell_type": "markdown",
   "id": "08f9c372",
   "metadata": {},
   "source": [
    "# Task-3.1 : Take 2 imgs & combine it to form a single image\n",
    "\n",
    "# Task-3.2 :Take 2 imgs, crop some part of both the images & swap them.\n"
   ]
  },
  {
   "cell_type": "code",
   "execution_count": 1,
   "id": "5303fbbf",
   "metadata": {},
   "outputs": [],
   "source": [
    "# Import libraries...................>>\n",
    "\n",
    "import cv2\n",
    "import numpy "
   ]
  },
  {
   "cell_type": "markdown",
   "id": "052c346b",
   "metadata": {},
   "source": [
    "# Crop some part of img 1"
   ]
  },
  {
   "cell_type": "code",
   "execution_count": 2,
   "id": "17f0e0d1",
   "metadata": {},
   "outputs": [
    {
     "name": "stdout",
     "output_type": "stream",
     "text": [
      "(1280, 720, 3)\n"
     ]
    },
    {
     "data": {
      "text/plain": [
       "True"
      ]
     },
     "execution_count": 2,
     "metadata": {},
     "output_type": "execute_result"
    }
   ],
   "source": [
    "img1 = cv2.imread('sk.jpg')\n",
    "print(img1.shape)\n",
    "\n",
    "# Cropping an image\n",
    "cropped_image1 = img1[220:440, 250:500]\n",
    "cv2.imshow(\"original\", img1)\n",
    "\n",
    "# Display cropped image\n",
    "cv2.imshow(\"cropped\", cropped_image1)\n",
    "cv2.waitKey(0)\n",
    "cv2.destroyAllWindows()\n",
    "\n",
    "# Save the cropped image\n",
    "cv2.imwrite(\"Cropped_Img.jpg\", cropped_image1)\n"
   ]
  },
  {
   "cell_type": "markdown",
   "id": "b42444b9",
   "metadata": {},
   "source": [
    "# Crop some part img 2"
   ]
  },
  {
   "cell_type": "code",
   "execution_count": 3,
   "id": "dcdd8481",
   "metadata": {},
   "outputs": [
    {
     "name": "stdout",
     "output_type": "stream",
     "text": [
      "(370, 296, 3)\n"
     ]
    },
    {
     "data": {
      "text/plain": [
       "True"
      ]
     },
     "execution_count": 3,
     "metadata": {},
     "output_type": "execute_result"
    }
   ],
   "source": [
    "img2 = cv2.imread('pa.jpg')\n",
    "print(img2.shape) # Print image shape\n",
    "cv2.imshow(\"original\", img2)\n",
    "\n",
    "# Cropping an image\n",
    "cropped_image2 = img2[50:300, 60:280]\n",
    "\n",
    "# Display cropped image\n",
    "cv2.imshow(\"cropped\", cropped_image2)\n",
    "cv2.waitKey(0)\n",
    "cv2.destroyAllWindows()\n",
    "\n",
    "# Save the cropped image\n",
    "cv2.imwrite(\"Cropped_Img2.jpg\", cropped_image2)"
   ]
  },
  {
   "cell_type": "code",
   "execution_count": 4,
   "id": "4f149e36",
   "metadata": {},
   "outputs": [
    {
     "data": {
      "text/plain": [
       "((220, 250, 3), (250, 220, 3))"
      ]
     },
     "execution_count": 4,
     "metadata": {},
     "output_type": "execute_result"
    }
   ],
   "source": [
    "cropped_image1.shape, cropped_image2.shape"
   ]
  },
  {
   "cell_type": "code",
   "execution_count": 5,
   "id": "6fd75e65",
   "metadata": {},
   "outputs": [
    {
     "data": {
      "text/plain": [
       "<function hconcat>"
      ]
     },
     "execution_count": 5,
     "metadata": {},
     "output_type": "execute_result"
    }
   ],
   "source": [
    "cv2.hconcat"
   ]
  },
  {
   "cell_type": "markdown",
   "id": "662dc26a",
   "metadata": {},
   "source": [
    "#  2 Crop img, Swap Horizontal & Vertical"
   ]
  },
  {
   "cell_type": "code",
   "execution_count": 6,
   "id": "c2cc96dc",
   "metadata": {},
   "outputs": [],
   "source": [
    "\n",
    "v_img = cv2.vconcat([cropped_image1[0:200,0:200], cropped_image2[0:200,0:200]])\n",
    "h_img = cv2.hconcat([cropped_image1[0:200,0:200], cropped_image2[0:200,0:200]])\n",
    "\n",
    "cv2.imshow('Horizontal', h_img)\n",
    "cv2.imshow('Vertical', v_img)\n",
    "cv2.waitKey(0)\n",
    "cv2.destroyAllWindows()\n"
   ]
  },
  {
   "cell_type": "code",
   "execution_count": null,
   "id": "6d94d9ea",
   "metadata": {},
   "outputs": [],
   "source": []
  },
  {
   "cell_type": "code",
   "execution_count": 7,
   "id": "db87014e",
   "metadata": {},
   "outputs": [],
   "source": [
    "crop_image2 = cropped_image1[0:200,0:200] + cropped_image2[0:200,0:200]"
   ]
  },
  {
   "cell_type": "code",
   "execution_count": 8,
   "id": "fe2efabe",
   "metadata": {},
   "outputs": [],
   "source": [
    "cv2.imshow('Vertical', crop_image2)\n",
    "cv2.waitKey(0)\n",
    "cv2.destroyAllWindows()"
   ]
  },
  {
   "cell_type": "markdown",
   "id": "120258a2",
   "metadata": {},
   "source": [
    "# Combining 2 img to create new img.."
   ]
  },
  {
   "cell_type": "code",
   "execution_count": 9,
   "id": "175a9b1a",
   "metadata": {},
   "outputs": [
    {
     "name": "stdout",
     "output_type": "stream",
     "text": [
      "(220, 250, 3)\n"
     ]
    }
   ],
   "source": [
    "photo1 = cv2.imread('Cropped_Img.jpg')\n",
    "print(photo1.shape)\n",
    "\n",
    "# Display photo 1\n",
    "cv2.imshow(\"sk\", photo1)\n",
    "cv2.waitKey(0)\n",
    "cv2.destroyAllWindows()"
   ]
  },
  {
   "cell_type": "code",
   "execution_count": 10,
   "id": "5948cb9f",
   "metadata": {},
   "outputs": [
    {
     "name": "stdout",
     "output_type": "stream",
     "text": [
      "(1280, 720, 3)\n"
     ]
    },
    {
     "data": {
      "text/plain": [
       "True"
      ]
     },
     "execution_count": 10,
     "metadata": {},
     "output_type": "execute_result"
    }
   ],
   "source": [
    "img = cv2.imread('golu.jpg')\n",
    "print(img.shape)\n",
    "\n",
    "# Cropping an image\n",
    "cropped_img = img[400:620, 350:586]\n",
    "cv2.imshow(\"original\", img)\n",
    "\n",
    "# Display cropped image\n",
    "cv2.imshow(\"cropped\", cropped_img)\n",
    "cv2.waitKey(0)\n",
    "cv2.destroyAllWindows()\n",
    "\n",
    "# Save the cropped image\n",
    "cv2.imwrite(\"golu_Img.jpg\", cropped_img)\n"
   ]
  },
  {
   "cell_type": "code",
   "execution_count": 11,
   "id": "a2c64e89",
   "metadata": {},
   "outputs": [
    {
     "name": "stdout",
     "output_type": "stream",
     "text": [
      "(220, 236, 3)\n"
     ]
    }
   ],
   "source": [
    "photo2 = cv2.imread('golu_Img.jpg')\n",
    "print(photo2.shape)\n",
    "\n",
    "# Display photo 2\n",
    "cv2.imshow(\"bhai\", photo2)\n",
    "cv2.waitKey(0)\n",
    "cv2.destroyAllWindows()"
   ]
  },
  {
   "cell_type": "markdown",
   "id": "820236bb",
   "metadata": {},
   "source": [
    "# combine_photo"
   ]
  },
  {
   "cell_type": "code",
   "execution_count": null,
   "id": "c5b8db07",
   "metadata": {},
   "outputs": [],
   "source": [
    "combine_photo = numpy.hstack((photo2,photo1))\n",
    "\n",
    "cv2.imshow(\"new_photo\",combine_photo)\n",
    "cv2.waitKey(0)\n",
    "cv2.destroyAllWindows()"
   ]
  },
  {
   "cell_type": "code",
   "execution_count": null,
   "id": "0e76a16e",
   "metadata": {},
   "outputs": [],
   "source": []
  },
  {
   "cell_type": "code",
   "execution_count": null,
   "id": "41bc42f8",
   "metadata": {},
   "outputs": [],
   "source": []
  }
 ],
 "metadata": {
  "kernelspec": {
   "display_name": "Python 3",
   "language": "python",
   "name": "python3"
  },
  "language_info": {
   "codemirror_mode": {
    "name": "ipython",
    "version": 3
   },
   "file_extension": ".py",
   "mimetype": "text/x-python",
   "name": "python",
   "nbconvert_exporter": "python",
   "pygments_lexer": "ipython3",
   "version": "3.8.8"
  }
 },
 "nbformat": 4,
 "nbformat_minor": 5
}
